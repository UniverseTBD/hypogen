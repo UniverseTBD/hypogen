{
 "cells": [
  {
   "attachments": {},
   "cell_type": "markdown",
   "metadata": {},
   "source": [
    "## Generation"
   ]
  },
  {
   "cell_type": "code",
   "execution_count": 69,
   "metadata": {},
   "outputs": [
    {
     "name": "stdout",
     "output_type": "stream",
     "text": [
      "\n",
      "\n",
      "\u001b[1m> Entering new SequentialChain chain...\u001b[0m\n",
      "\n",
      "\u001b[1m> Finished chain.\u001b[0m\n"
     ]
    }
   ],
   "source": [
    "# Critic Chain: Takes a hypothesis and provides a critique.\n",
    "critic_template = \"\"\"\n",
    "Given the following hypothesis:\n",
    "{hypothesis}\n",
    "\n",
    "Analyze each part of the hypothesis:\n",
    "1. Clarity: Are the statements clear and easy to understand?\n",
    "2. Coherence: Do the different parts of the hypothesis logically flow together? Does it seem like the proposed solution would work?\n",
    "3. Scientific Validity: Are there any scientific inaccuracies or assumptions that seem unfounded?\n",
    "\n",
    "After your analysis, provide specific feedback on how each field (Problem, Solution, Methodology, Evaluation, Results) can be improved.\n",
    "\"\"\"\n",
    "critic_prompt = PromptTemplate(input_variables=[\"hypothesis\"], template=critic_template)\n",
    "critic_chain = LLMChain(llm=llm, prompt=critic_prompt, output_key=\"critique\")\n",
    "\n",
    "# Reviser Chain: Takes original hypothesis and critique, then provides a revised hypothesis.\n",
    "reviser_template = \"\"\"\n",
    "Given the original hypothesis:\n",
    "{hypothesis}\n",
    "\n",
    "And based on the critique provided:\n",
    "{critique}\n",
    "\n",
    "Revise the hypothesis by addressing each point of the critique. Ensure the new version is clearer, more coherent, and scientifically valid.\n",
    "\"\"\"\n",
    "reviser_prompt = PromptTemplate(input_variables=[\"hypothesis\", \"critique\"], template=reviser_template)\n",
    "reviser_chain = LLMChain(llm=llm, prompt=reviser_prompt, output_key=\"revised_hypothesis\")\n",
    "\n",
    "# Overall Sequential Chain: Critiques the hypothesis and then revises it.\n",
    "overall_chain = SequentialChain(\n",
    "    chains=[critic_chain, reviser_chain],\n",
    "    input_variables=[\"hypothesis\"],\n",
    "    output_variables=[\"critique\", \"revised_hypothesis\"],\n",
    "    verbose=True)\n",
    "\n",
    "# Test the chain with a provided hypothesis\n",
    "hypothesis = {\n",
    "    \"Problem\": \"Issues in determining basic characteristics of black holes and their surrounding disks in X-ray binary, using models of the source's disk X-ray continuum. A key issue is the determination of the \\\"color correction factor\\\".\",\n",
    "    \"Solution\": \"Using observational data to estimate the color correction factor by modeling the disk spectrum with saturated Compton scattering.\",\n",
    "    \"Methodology\": \"The work is based on two observations made by XMM-Newton on GX 339-4. These observations offer high-quality data at low energies. The spectra were then fitted to these models.\",\n",
    "    \"Evaluation\": \"The quality of fit of the spectra to the models was examined. Other models were also tested for fit.\",\n",
    "    \"Results\": \"The spectra fits well with the model and provides reasonable values for the color correction factor. However, the high-soft-state continuum cannot be adequately fitted by the latest disk models.\"\n",
    "}\n",
    "result = overall_chain({\"hypothesis\": str(hypothesis)})\n"
   ]
  },
  {
   "cell_type": "code",
   "execution_count": 70,
   "metadata": {},
   "outputs": [
    {
     "name": "stdout",
     "output_type": "stream",
     "text": [
      "Analysis:\n",
      "\n",
      "1. Clarity: The hypothesis is relatively clear but contains technical terms that may be difficult for non-experts to understand. For example, terms like \"X-ray binary\", \"color correction factor\", \"saturated Compton scattering\", and \"high-soft-state continuum\" may require more explanation or context.\n",
      "   \n",
      "2. Coherence: The different parts of the hypothesis logically flow together. The problem is clearly stated, a solution is proposed, the methodology is explained, an evaluation process is detailed, and results are provided. \n",
      "\n",
      "3. Scientific Validity: The hypothesis appears to be scientifically valid. It uses real-world observational data and incorporates established scientific models. However, the validity of the results would depend on the accuracy and reliability of the data and models used.\n",
      "\n",
      "Feedback:\n",
      "\n",
      "Problem: The problem statement could be improved by providing more background information to help non-experts understand the issue. For example, briefly explaining what a black hole is, what an X-ray binary is, and why determining their characteristics is important.\n",
      "\n",
      "Solution: The solution could be enhanced by explaining why modeling the disk spectrum with saturated Compton scattering is an effective approach to estimating the color correction factor.\n",
      "\n",
      "Methodology: The methodology could be improved by providing more details about the process. For example, how were the spectra fitted to the models? What specific models were used? \n",
      "\n",
      "Evaluation: The evaluation could be enhanced by specifying the metrics or criteria used to assess the quality of fit. Also, it would be beneficial to know which other models were tested.\n",
      "\n",
      "Results: The results could be improved by providing more specific information. For instance, what are the \"reasonable values\" for the color correction factor? In what ways were the latest disk models unable to adequately fit the high-soft-state continuum?\n"
     ]
    }
   ],
   "source": [
    "print(result['critique'])"
   ]
  },
  {
   "cell_type": "code",
   "execution_count": 71,
   "metadata": {},
   "outputs": [
    {
     "name": "stdout",
     "output_type": "stream",
     "text": [
      "{'Problem': 'The study aims to determine basic attributes of black holes and their surrounding disks, specifically in X-ray binary systems. In simple terms, X-ray binaries are systems where a black hole and a star are in close proximity, and the intense gravitational pull of the black hole causes matter from the star to form a disk around the black hole. The main challenge is the determination of the \"color correction factor\", a numerical factor that helps us to understand the temperature and energy of the emitting source.', \n",
      "\n",
      "'Solution': 'The proposed solution is to estimate the color correction factor using observational data. This is achieved by modeling the spectrum of the disk around the black hole with a phenomenon known as saturated Compton scattering, where photons gain energy by interacting with high-energy particles.', \n",
      "\n",
      "'Methodology': 'The research utilized two observational datasets provided by the XMM-Newton space telescope on the X-ray binary system GX 339-4. The high-quality, low-energy data from these observations was analyzed and the spectrum of the disk was fitted to models based on the principles of saturated Compton scattering.', \n",
      "\n",
      "'Evaluation': 'The evaluation of this method involved checking the quality of the fit of the observed spectra to the proposed models. The quality of fit was assessed based on the residual sum of squares, a common metric used in spectral analysis. Furthermore, the fit was also compared with other existing models for black hole disks.', \n",
      "\n",
      "'Results': 'The observational spectra fit well with the proposed model, providing color correction factor values within the expected range for X-ray binaries. However, when applied to the high-soft-state continuum, a condition where the X-ray output is dominated by thermal emissions from the disk, the most recent models for black hole disks were found to be inadequate.'}\n"
     ]
    }
   ],
   "source": [
    "print(result['revised_hypothesis'])"
   ]
  },
  {
   "cell_type": "code",
   "execution_count": 72,
   "metadata": {},
   "outputs": [],
   "source": [
    "import ast\n",
    "\n",
    "hypothesis_dict = ast.literal_eval(result['revised_hypothesis'])"
   ]
  },
  {
   "cell_type": "code",
   "execution_count": 1,
   "metadata": {},
   "outputs": [],
   "source": [
    "import ast\n",
    "import yaml\n",
    "from langchain.chains import SequentialChain\n",
    "from langchain.memory import SimpleMemory\n",
    "from langchain.chat_models import AzureChatOpenAI\n",
    "from langchain.chains import LLMChain\n",
    "from langchain.prompts import PromptTemplate\n",
    "\n",
    "# This is an LLMChain to write a synopsis given a title of a play.\n",
    "config = yaml.safe_load(open(\"../config.yml\"))\n",
    "API_KEY = config['api_key']\n",
    "DEPLOYMENT_NAME = config['deployment_name']\n",
    "BASE_URL = config['base_url']\n",
    "API_VERSION = config['api_version']\n",
    "\n",
    "llm = AzureChatOpenAI(\n",
    "    openai_api_base=BASE_URL,\n",
    "    openai_api_version=API_VERSION,\n",
    "    deployment_name=DEPLOYMENT_NAME,\n",
    "    openai_api_key=API_KEY,\n",
    "    openai_api_type=\"azure\",\n",
    ")\n",
    "\n",
    "# Critic Chain: Takes a hypothesis and provides a critique.\n",
    "critic_template = \"\"\"\n",
    "Given the following hypothesis:\n",
    "{hypothesis}\n",
    "\n",
    "Analyze each part of the hypothesis:\n",
    "1. Clarity: Are the statements clear and easy to understand?\n",
    "2. Coherence: Do the different parts of the hypothesis logically flow together? Does it seem like the proposed solution would work?\n",
    "3. Scientific Validity: Are there any scientific inaccuracies or assumptions that seem unfounded?\n",
    "\n",
    "After your analysis, provide specific feedback on how each field (Problem, Solution, Methodology, Evaluation, Results) can be improved.\n",
    "Specifically, give feedback on the frailties of the idea as a whole, and suggest potential enhancements.\n",
    "\"\"\"\n",
    "\n",
    "# Reviser Chain: Takes original hypothesis and critique, then provides a revised hypothesis.\n",
    "reviser_template = \"\"\"\n",
    "Given the original hypothesis:\n",
    "{hypothesis}\n",
    "\n",
    "And based on the critique provided:\n",
    "{critique}\n",
    "\n",
    "Revise the hypothesis by addressing each point of the critique. Ensure the new version is clearer, more coherent, and scientifically valid.\n",
    "\"\"\"\n",
    "\n",
    "def adversarial_update_hypothesis(hypothesis):\n",
    "    critic_prompt = PromptTemplate(input_variables=[\"hypothesis\"], template=critic_template)\n",
    "    critic_chain = LLMChain(llm=llm, prompt=critic_prompt, output_key=\"critique\")\n",
    "    reviser_prompt = PromptTemplate(input_variables=[\"hypothesis\", \"critique\"], template=reviser_template)\n",
    "    reviser_chain = LLMChain(llm=llm, prompt=reviser_prompt, output_key=\"revised_hypothesis\")\n",
    "    overall_chain = SequentialChain(\n",
    "        chains=[critic_chain, reviser_chain],\n",
    "        input_variables=[\"hypothesis\"],\n",
    "        output_variables=[\"critique\", \"revised_hypothesis\"],\n",
    "        verbose=False)\n",
    "    result = overall_chain({\"hypothesis\": str(hypothesis)})\n",
    "    return result"
   ]
  },
  {
   "cell_type": "code",
   "execution_count": 2,
   "metadata": {},
   "outputs": [
    {
     "data": {
      "application/vnd.jupyter.widget-view+json": {
       "model_id": "c00c076dca1744538db6e9378afc34c2",
       "version_major": 2,
       "version_minor": 0
      },
      "text/plain": [
       "  0%|          | 0/3 [00:00<?, ?it/s]"
      ]
     },
     "metadata": {},
     "output_type": "display_data"
    },
    {
     "data": {
      "text/plain": [
       "'{\\'Problem\\': \\'We are tasked with the challenge of accurately determining the fundamental features of black holes and the disks that surround them in X-ray binary, a type of binary star system that emits X-rays. This process is pivotal to enhancing our understanding of how matter behaves in extreme gravitational fields and the nature of black holes. The importance of achieving this lies in its potential to contribute significantly to the broader field of astrophysics, enabling us to understand the universe better. The critical part of this process is the determination of the \"color correction factor\", a measure of how the color of an object appears to change due to relativistic effects when it is moving at speeds close to the speed of light.\\',   \\'Solution\\': \\'We propose a solution that utilizes observational data to derive estimates for the color correction factor. This involves modeling the disk spectrum through the innovative concept of \"saturated Compton scattering\". In this process, photons gain energy by interacting with charged particles, allowing us to account for complexities in the radiation process. Saturated Compton scattering is particularly useful since it provides a more precise estimation of the color correction factor by accounting for the shifts in energy and wavelength of emitted photons. The advantage of this method lies in its ability to provide a more refined and accurate estimate of the color correction factor, which is central to our understanding of black holes.\\',   \\'Methodology\\': \\'Our methodology revolved around using two specific observations made by the XMM-Newton on the X-ray source, GX 339-4. The choice of GX 339-4 was based on its ability to provide high-quality data at low energies, essential for an accurate estimation of the color correction factor. Low-energy observations offer clearer spectral lines, which allows for more accurate modeling and estimation. The selection of these specific observations was strategic as they offer the best possible data to conduct our research.\\',   \\'Evaluation\\': \\'The evaluation involved comparing how well the spectra fit the models. The spectra were fitted to these models and the quality of fit was assessed based on the deviation of the observed data from the model predictions. We utilized other models for comparison, including the standard disk model and the slim disk model. These models were chosen because of their widespread use in similar research scenarios, making them suitable benchmarks for our model. The comparison process was designed to ensure that our model performs at par, if not better, with existing models.\\',   \\'Results\\': \\'Our model provided a good fit for the observational data, yielding reasonable estimates for the color correction factor. However, it failed to provide an adequate fit for the high-soft-state continuum, a state where the source emits a large amount of soft X-rays. This suggests that the current disk models, including ours, may not fully capture all the complexities of the radiation process. This realization underscores the need for further refinement of our model, or the exploration of alternative models that can better represent the high-soft-state continuum. The implications of these results extend beyond our study, indicating a gap in the existing algorithms that model black holes and their radiation process. As for future studies, it would be beneficial to focus on refining the parameters of the model which deal with high-soft-state continuum.\\'}'"
      ]
     },
     "execution_count": 2,
     "metadata": {},
     "output_type": "execute_result"
    }
   ],
   "source": [
    "import re\n",
    "from preprocessing import Hypothesis\n",
    "from tqdm.notebook import tqdm\n",
    "\n",
    "def improve_hypothesis(hypothesis: str, n_iters: int = 3) -> str:\n",
    "    for i in tqdm(range(n_iters)):\n",
    "        revised_hypothesis = adversarial_update_hypothesis(hypothesis)\n",
    "        hyp_str = revised_hypothesis['revised_hypothesis']\n",
    "        hyp_str = hyp_str.replace('\\n', ' ')\n",
    "        # Remove everything before the first { and after the last }\n",
    "        hyp_str = re.sub(r'^.*?\\{', '{', hyp_str)\n",
    "        hypothesis = hyp_str\n",
    "    return hypothesis\n",
    "\n",
    "hypothesis_to_improve = {\n",
    "    \"Problem\": \"Issues in determining basic characteristics of black holes and their surrounding disks in X-ray binary, using models of the source's disk X-ray continuum. A key issue is the determination of the \\\"color correction factor\\\".\",\n",
    "    \"Solution\": \"Using observational data to estimate the color correction factor by modeling the disk spectrum with saturated Compton scattering.\",\n",
    "    \"Methodology\": \"The work is based on two observations made by XMM-Newton on GX 339-4. These observations offer high-quality data at low energies. The spectra were then fitted to these models.\",\n",
    "    \"Evaluation\": \"The quality of fit of the spectra to the models was examined. Other models were also tested for fit.\",\n",
    "    \"Results\": \"The spectra fits well with the model and provides reasonable values for the color correction factor. However, the high-soft-state continuum cannot be adequately fitted by the latest disk models.\"\n",
    "}\n",
    "\n",
    "improve_hypothesis(hypothesis=hypothesis_to_improve, n_iters=3)"
   ]
  },
  {
   "cell_type": "code",
   "execution_count": 18,
   "metadata": {},
   "outputs": [
    {
     "name": "stdout",
     "output_type": "stream",
     "text": [
      "There are 83923 hypotheses in the dataset.\n",
      "There are 147502 abstracts in the dataset.\n"
     ]
    }
   ],
   "source": [
    "import pandas as pd\n",
    "\n",
    "df = pd.read_csv(\"../data/tuning/cs.LG.csv\")\n",
    "print(f\"There are {len(df)} hypotheses in the dataset.\")\n",
    "abstracts = pd.read_csv(\"../data/processed/arxiv-cs.LG.csv\", low_memory=False)\n",
    "print(f\"There are {len(abstracts)} abstracts in the dataset.\")"
   ]
  },
  {
   "cell_type": "code",
   "execution_count": 23,
   "metadata": {},
   "outputs": [
    {
     "name": "stdout",
     "output_type": "stream",
     "text": [
      "---------------------------------------------------------------------------\n",
      "Faithful Inversion of Generative Models for Effective Amortized\n",
      "  Inference\n",
      "---------------------------------------------------------------------------\n",
      "Bit: Inference amortization methods are traditionally used to share information across multiple posterior-inference problems, enhancing their efficiency. However, these methods typically require the inversion of the dependency structure in the generative model, which involves learning a mapping from observations to distributions approximating the posterior. Previous approaches have attempted to invert the dependency structure in a heuristic way, but these methods often fail to capture these dependencies correctly, limiting the accuracy of the resulting approximations.\n",
      "\n",
      "Flip: The research introduces an algorithm that minimally and faithfully inverts the graphical model structure of any generative model. This new approach ensures that the inverses do not encode any independence assertions that are absent from the model and are local maxima for the number of true independencies encoded. Empirical evidence shows that these minimally faithful inverses lead to better inference amortization than existing heuristic approaches, proving the effectiveness of this innovative approach.\n"
     ]
    }
   ],
   "source": [
    "# Randomly sample a row from the dataframe\n",
    "# Generate random number in (0, len(df))\n",
    "import random\n",
    "\n",
    "random_idx = random.randint(0, len(df)-1)\n",
    "print('-'*75)\n",
    "print(df.iloc[random_idx]['title'])\n",
    "print('-'*75)\n",
    "print(\"Bit: \"+df.iloc[random_idx]['bit']+\"\\n\")\n",
    "print(\"Flip: \"+df.iloc[random_idx]['flip'])"
   ]
  },
  {
   "cell_type": "code",
   "execution_count": 60,
   "metadata": {},
   "outputs": [
    {
     "name": "stdout",
     "output_type": "stream",
     "text": [
      "---------------------------------------------------------------------------\n",
      "An Atomistic Machine Learning Package for Surface Science and Catalysis\n",
      "\n",
      "  We present work flows and a software module for machine learning model\n",
      "building in surface science and heterogeneous catalysis. This includes\n",
      "fingerprinting atomic structures from 3D structure and/or connectivity\n",
      "information, it includes descriptor selection methods and benchmarks, and it\n",
      "includes active learning frameworks for atomic structure optimization,\n",
      "acceleration of screening studies and for exploration of the structure space of\n",
      "nano particles, which are all atomic structure problems relevant for surface\n",
      "science and heterogeneous catalysis. Our overall goal is to provide a\n",
      "repository to ease machine learning model building for catalysis, to advance\n",
      "the models beyond the chemical intuition of the user and to increase autonomy\n",
      "for exploration of chemical space.\n",
      "\n"
     ]
    }
   ],
   "source": [
    "# Get the original abstract using the index\n",
    "title = df.iloc[random_idx]['title']\n",
    "corresponding_idx = int(abstracts[abstracts.title == title].index[0])\n",
    "print('-'*75)\n",
    "print(abstracts.iloc[corresponding_idx]['title'])\n",
    "print()\n",
    "print(abstracts.iloc[corresponding_idx]['abstract'])"
   ]
  },
  {
   "cell_type": "code",
   "execution_count": 68,
   "metadata": {},
   "outputs": [
    {
     "name": "stdout",
     "output_type": "stream",
     "text": [
      "  Statistically resolving the underlying haplotype pair for a genotype\n",
      "measurement is an important intermediate step in gene mapping studies, and has\n",
      "received much attention recently. Consequently, a variety of methods for this\n",
      "problem have been developed. Different methods employ different statistical\n",
      "models, and thus implicitly encode different assumptions about the nature of\n",
      "the underlying haplotype structure. Depending on the population sample in\n",
      "question, their relative performance can vary greatly, and it is unclear which\n",
      "method to choose for a particular sample. Instead of choosing a single method,\n",
      "we explore combining predictions returned by different methods in a principled\n",
      "way, and thereby circumvent the problem of method selection.\n",
      "  We propose several techniques for combining haplotype reconstructions and\n",
      "analyze their computational properties. In an experimental study on real-world\n",
      "haplotype data we show that such techniques can provide more accurate and\n",
      "robust reconstructions, and are useful for outlier detection. Typically, the\n",
      "combined prediction is at least as accurate as or even more accurate than the\n",
      "best individual method, effectively circumventing the method selection problem.\n",
      "\n"
     ]
    }
   ],
   "source": [
    "# Find all the rows which have the word 'transformer' in the abstract column\n",
    "transformer_rows = abstracts[abstracts['abstract'].str.contains(\"attention\")]\n",
    "print(transformer_rows.iloc[1]['abstract'])"
   ]
  },
  {
   "attachments": {},
   "cell_type": "markdown",
   "metadata": {},
   "source": [
    "## Pushing dataset to HuggingFace"
   ]
  },
  {
   "cell_type": "code",
   "execution_count": 49,
   "metadata": {},
   "outputs": [
    {
     "name": "stdout",
     "output_type": "stream",
     "text": [
      "There are 22982 hypotheses in the dataset.\n",
      "There are 147502 abstracts in the dataset.\n"
     ]
    }
   ],
   "source": [
    "import pandas as pd\n",
    "\n",
    "category = 'cs.LG'\n",
    "df = pd.read_csv(f\"../data/tuning/{category}.csv\")\n",
    "print(f\"There are {len(df)} hypotheses in the dataset.\")\n",
    "abstracts = pd.read_csv(f\"../data/processed/arxiv-{category}.csv\", low_memory=False)\n",
    "print(f\"There are {len(abstracts)} abstracts in the dataset.\")"
   ]
  },
  {
   "cell_type": "code",
   "execution_count": 50,
   "metadata": {},
   "outputs": [
    {
     "name": "stdout",
     "output_type": "stream",
     "text": [
      "There are 23076 hypotheses in the merged dataset.\n"
     ]
    }
   ],
   "source": [
    "# Merge the df and abstracts dataframes on title\n",
    "merged_df = pd.merge(df, abstracts, on='title')\n",
    "merged_df.drop(columns=['index'], inplace=True)\n",
    "print(f\"There are {len(merged_df)} hypotheses in the merged dataset.\")\n",
    "merged_df.to_csv(f\"../data/processed/hf-{category}.csv\", index=False)\n"
   ]
  },
  {
   "cell_type": "code",
   "execution_count": 51,
   "metadata": {},
   "outputs": [
    {
     "data": {
      "text/html": [
       "<div>\n",
       "<style scoped>\n",
       "    .dataframe tbody tr th:only-of-type {\n",
       "        vertical-align: middle;\n",
       "    }\n",
       "\n",
       "    .dataframe tbody tr th {\n",
       "        vertical-align: top;\n",
       "    }\n",
       "\n",
       "    .dataframe thead th {\n",
       "        text-align: right;\n",
       "    }\n",
       "</style>\n",
       "<table border=\"1\" class=\"dataframe\">\n",
       "  <thead>\n",
       "    <tr style=\"text-align: right;\">\n",
       "      <th></th>\n",
       "      <th>bit</th>\n",
       "      <th>flip</th>\n",
       "      <th>title</th>\n",
       "      <th>categories</th>\n",
       "      <th>abstract</th>\n",
       "      <th>authors</th>\n",
       "      <th>doi</th>\n",
       "      <th>id</th>\n",
       "    </tr>\n",
       "  </thead>\n",
       "  <tbody>\n",
       "    <tr>\n",
       "      <th>0</th>\n",
       "      <td>Traditional statistical learning constructs a ...</td>\n",
       "      <td>The research proposes a setting where the enco...</td>\n",
       "      <td>Learning from compressed observations</td>\n",
       "      <td>cs.IT cs.LG math.IT</td>\n",
       "      <td>The problem of statistical learning is to co...</td>\n",
       "      <td>Maxim Raginsky</td>\n",
       "      <td>10.1109/ITW.2007.4313111</td>\n",
       "      <td>0704.0671</td>\n",
       "    </tr>\n",
       "    <tr>\n",
       "      <th>1</th>\n",
       "      <td>In sensor networks, the communication among se...</td>\n",
       "      <td>This research proposes a new approach to desig...</td>\n",
       "      <td>Sensor Networks with Random Links: Topology De...</td>\n",
       "      <td>cs.IT cs.LG math.IT</td>\n",
       "      <td>In a sensor network, in practice, the commun...</td>\n",
       "      <td>Soummya Kar and Jose M. F. Moura</td>\n",
       "      <td>10.1109/TSP.2008.920143</td>\n",
       "      <td>0704.0954</td>\n",
       "    </tr>\n",
       "    <tr>\n",
       "      <th>2</th>\n",
       "      <td>Traditional algorithms for the online shortest...</td>\n",
       "      <td>An innovative approach is to develop an algori...</td>\n",
       "      <td>The on-line shortest path problem under partia...</td>\n",
       "      <td>cs.LG cs.SC</td>\n",
       "      <td>The on-line shortest path problem is conside...</td>\n",
       "      <td>Andras Gyorgy, Tamas Linder, Gabor Lugosi, Gyo...</td>\n",
       "      <td>NaN</td>\n",
       "      <td>0704.1020</td>\n",
       "    </tr>\n",
       "    <tr>\n",
       "      <th>3</th>\n",
       "      <td>Ordinal regression, a type of learning that co...</td>\n",
       "      <td>A traditional neural network can be adapted to...</td>\n",
       "      <td>A neural network approach to ordinal regression</td>\n",
       "      <td>cs.LG cs.AI cs.NE</td>\n",
       "      <td>Ordinal regression is an important type of l...</td>\n",
       "      <td>Jianlin Cheng</td>\n",
       "      <td>NaN</td>\n",
       "      <td>0704.1028</td>\n",
       "    </tr>\n",
       "    <tr>\n",
       "      <th>4</th>\n",
       "      <td>Traditional Monte Carlo Optimization (MCO) and...</td>\n",
       "      <td>This research establishes a mathematical ident...</td>\n",
       "      <td>Parametric Learning and Monte Carlo Optimization</td>\n",
       "      <td>cs.LG</td>\n",
       "      <td>This paper uncovers and explores the close r...</td>\n",
       "      <td>David H. Wolpert and Dev G. Rajnarayan</td>\n",
       "      <td>NaN</td>\n",
       "      <td>0704.1274</td>\n",
       "    </tr>\n",
       "  </tbody>\n",
       "</table>\n",
       "</div>"
      ],
      "text/plain": [
       "                                                 bit  \\\n",
       "0  Traditional statistical learning constructs a ...   \n",
       "1  In sensor networks, the communication among se...   \n",
       "2  Traditional algorithms for the online shortest...   \n",
       "3  Ordinal regression, a type of learning that co...   \n",
       "4  Traditional Monte Carlo Optimization (MCO) and...   \n",
       "\n",
       "                                                flip  \\\n",
       "0  The research proposes a setting where the enco...   \n",
       "1  This research proposes a new approach to desig...   \n",
       "2  An innovative approach is to develop an algori...   \n",
       "3  A traditional neural network can be adapted to...   \n",
       "4  This research establishes a mathematical ident...   \n",
       "\n",
       "                                               title           categories  \\\n",
       "0              Learning from compressed observations  cs.IT cs.LG math.IT   \n",
       "1  Sensor Networks with Random Links: Topology De...  cs.IT cs.LG math.IT   \n",
       "2  The on-line shortest path problem under partia...          cs.LG cs.SC   \n",
       "3    A neural network approach to ordinal regression    cs.LG cs.AI cs.NE   \n",
       "4   Parametric Learning and Monte Carlo Optimization                cs.LG   \n",
       "\n",
       "                                            abstract  \\\n",
       "0    The problem of statistical learning is to co...   \n",
       "1    In a sensor network, in practice, the commun...   \n",
       "2    The on-line shortest path problem is conside...   \n",
       "3    Ordinal regression is an important type of l...   \n",
       "4    This paper uncovers and explores the close r...   \n",
       "\n",
       "                                             authors  \\\n",
       "0                                     Maxim Raginsky   \n",
       "1                   Soummya Kar and Jose M. F. Moura   \n",
       "2  Andras Gyorgy, Tamas Linder, Gabor Lugosi, Gyo...   \n",
       "3                                      Jianlin Cheng   \n",
       "4             David H. Wolpert and Dev G. Rajnarayan   \n",
       "\n",
       "                        doi         id  \n",
       "0  10.1109/ITW.2007.4313111  0704.0671  \n",
       "1   10.1109/TSP.2008.920143  0704.0954  \n",
       "2                       NaN  0704.1020  \n",
       "3                       NaN  0704.1028  \n",
       "4                       NaN  0704.1274  "
      ]
     },
     "execution_count": 51,
     "metadata": {},
     "output_type": "execute_result"
    }
   ],
   "source": [
    "merged_df.head()"
   ]
  },
  {
   "cell_type": "code",
   "execution_count": 57,
   "metadata": {},
   "outputs": [
    {
     "data": {
      "application/vnd.jupyter.widget-view+json": {
       "model_id": "f6c4bfc9528f4fa7a666a88f2569b6e1",
       "version_major": 2,
       "version_minor": 0
      },
      "text/plain": [
       "Pushing dataset shards to the dataset hub:   0%|          | 0/1 [00:00<?, ?it/s]"
      ]
     },
     "metadata": {},
     "output_type": "display_data"
    },
    {
     "data": {
      "application/vnd.jupyter.widget-view+json": {
       "model_id": "db3af8fa0d594d3d9f56b08550a2d5a9",
       "version_major": 2,
       "version_minor": 0
      },
      "text/plain": [
       "Creating parquet from Arrow format:   0%|          | 0/24 [00:00<?, ?ba/s]"
      ]
     },
     "metadata": {},
     "output_type": "display_data"
    }
   ],
   "source": [
    "from datasets import load_dataset\n",
    "\n",
    "dataset = load_dataset('csv', data_files=f\"../data/processed/hf-{category}.csv\", split='train')\n",
    "dataset.push_to_hub(f\"universeTBD/arxiv-bit-flip-{category}\")"
   ]
  },
  {
   "cell_type": "code",
   "execution_count": 56,
   "metadata": {},
   "outputs": [
    {
     "data": {
      "text/plain": [
       "{'bit': 'Traditional statistical learning constructs a predictor of a random variable Y as a function of a related random variable X, based on a training sample from their joint distribution. The goal is to approach the performance of the best predictor in the specified class. This approach assumes perfect observation of the X-part of the sample, while the Y-part is communicated at some finite bit rate.',\n",
       " 'flip': 'The research proposes a setting where the encoding of the Y-values is allowed to depend on the X-values. Under certain conditions on the admissible predictors, the underlying family of probability distributions, and the loss function, an information-theoretic characterization of achievable predictor performance is given. This is based on conditional distortion-rate functions, illustrating a new approach to nonparametric regression in Gaussian noise.',\n",
       " 'title': 'Learning from compressed observations',\n",
       " 'categories': 'cs.IT cs.LG math.IT',\n",
       " 'abstract': '  The problem of statistical learning is to construct a predictor of a random\\nvariable $Y$ as a function of a related random variable $X$ on the basis of an\\ni.i.d. training sample from the joint distribution of $(X,Y)$. Allowable\\npredictors are drawn from some specified class, and the goal is to approach\\nasymptotically the performance (expected loss) of the best predictor in the\\nclass. We consider the setting in which one has perfect observation of the\\n$X$-part of the sample, while the $Y$-part has to be communicated at some\\nfinite bit rate. The encoding of the $Y$-values is allowed to depend on the\\n$X$-values. Under suitable regularity conditions on the admissible predictors,\\nthe underlying family of probability distributions and the loss function, we\\ngive an information-theoretic characterization of achievable predictor\\nperformance in terms of conditional distortion-rate functions. The ideas are\\nillustrated on the example of nonparametric regression in Gaussian noise.\\n',\n",
       " 'authors': 'Maxim Raginsky',\n",
       " 'doi': '10.1109/ITW.2007.4313111',\n",
       " 'id': '0704.0671'}"
      ]
     },
     "execution_count": 56,
     "metadata": {},
     "output_type": "execute_result"
    }
   ],
   "source": [
    "dataset[0]"
   ]
  },
  {
   "cell_type": "code",
   "execution_count": 111,
   "metadata": {},
   "outputs": [
    {
     "data": {
      "text/plain": [
       "(1005, 3)"
      ]
     },
     "execution_count": 111,
     "metadata": {},
     "output_type": "execute_result"
    }
   ],
   "source": [
    "path = '../data/generated/gpt_4_zero_shot.csv'\n",
    "df = pd.read_csv(path)\n",
    "\n",
    "# # iterate over rows\n",
    "# for index, row in df.iterrows():\n",
    "#     print(f'Bit: {row[\"Bit\"]}')\n",
    "#     result = row[\"Flip\"]\n",
    "#     if result.startswith(\"Flip: \"):\n",
    "#         result = result[len(\"Flip: \"):]\n",
    "#     print(f'Flip: {result}')\n",
    "#     print()\n",
    "df.shape"
   ]
  },
  {
   "cell_type": "code",
   "execution_count": 89,
   "metadata": {},
   "outputs": [
    {
     "name": "stdout",
     "output_type": "stream",
     "text": [
      "Bit: Graph anomaly detection (GAD) has been successful in various fields, including fraud detection, cybersecurity, and finance security. The conventional approach focuses on identifying anomalies at the level of individual entities, such as nodes or graphs. This approach, however, overlooks the potential existence of anomalous groups within the graph.\n",
      "Flip: A new approach is proposed that focuses on Group-level Graph Anomaly Detection (Gr-GAD), challenging the traditional focus on individual entities. This method uses a variant of Graph AutoEncoder (GAE) to identify potential anomaly groups, and then applies a Topology Pattern-based Graph Contrastive Learning (TPGCL) method to generate embeddings for each candidate group. This innovative approach allows for the identification and localization of anomaly groups, providing a more comprehensive understanding of graph anomalies.\n",
      "\n",
      "Bit: The conventional belief in supervised learning is that boosting involves combining multiple weak classifiers to create a stronger one, with AdaBoost being a prime example of this approach. It is generally accepted that AdaBoost operates as an optimization algorithm, iteratively adjusting the weights of the classifiers to minimize errors. This process is thought to be dynamic and complex, requiring iterative computations to determine the final strong classifier.\n",
      "Flip: This research challenges the notion that AdaBoost is a true optimization algorithm, suggesting instead that it is an algorithm in name only. It posits that the combination of weak classifiers resulting from AdaBoost can be explicitly calculated using a truth table, bypassing the need for iterative computations. This approach simplifies the understanding of AdaBoost, presenting it as a deterministic process that can be illustrated and compared with other implementations, such as those in the Python library scikit-learn.\n",
      "\n",
      "Bit: Time Series Classification (TSC) has traditionally been approached using state-of-the-art methods based on similarity measures, intervals, shapelets, dictionaries, deep learning methods or hybrid ensemble methods. These methods have been extensively benchmarked and compared for their predictive performance. However, feature engineering tools, designed for descriptive analysis and visualization of time series with informative and interpretable features, have rarely been benchmarked for TSC problems.\n",
      "Flip: This research proposes a simple TSC process to evaluate the potential predictive performance of the feature sets obtained with existing feature engineering tools. An empirical study of 11 feature engineering tools branched with 9 supervised classifiers over 112 time series data sets is presented. The results indicate that feature-based methods perform as accurately as current state-of-the-art TSC algorithms, suggesting that they should be considered further in the TSC literature.\n",
      "\n",
      "Bit: The conventional belief is that acoustic side channel attacks on keyboards are not a significant threat due to the complexity of accurately classifying keystrokes. This assumption is based on the idea that the equipment and algorithms required for such attacks are not readily available or practical to use. Furthermore, it is assumed that the accuracy of such attacks would be significantly reduced when keystrokes are recorded through mediums such as video-conferencing software.\n",
      "Flip: The research flips this belief by demonstrating a practical implementation of a deep learning model that can classify laptop keystrokes with high accuracy using a smartphone integrated microphone. The study shows that even when keystrokes are recorded through video-conferencing software, the accuracy remains high. This proves that acoustic side channel attacks on keyboards are not only possible with off-the-shelf equipment and algorithms, but also pose a significant threat, necessitating the development of mitigation methods.\n",
      "\n",
      "Bit: Traditional methods for learning Hamiltonian systems often struggle with the complexity of nonlinear dynamics. They typically require a high-dimensional coordinate system to accurately capture the system's behavior. This approach can lead to high model complexity and may not guarantee long-term stability of the system.\n",
      "Flip: The research proposes a new methodology that leverages the lifting hypothesis to transform nonlinear Hamiltonian systems into quadratic dynamical systems. This approach enforces the Hamiltonian structure with a symplectic auto-encoder, ensuring long-term stability and reducing model complexity. Depending on the dimensionality of the data, the methodology determines either a higher-order or lower-order transformed coordinate system, demonstrating its flexibility and adaptability.\n",
      "\n"
     ]
    }
   ],
   "source": [
    "path = '../data/tuning/cs.LG_test.csv'\n",
    "test = pd.read_csv(path)\n",
    "\n",
    "# iterate over rows\n",
    "i = 0\n",
    "for index, row in test.iterrows():\n",
    "    print(f'Bit: {row[\"bit\"]}')\n",
    "    result = row[\"flip\"]\n",
    "    if result.startswith(\"flip: \"):\n",
    "        result = result[len(\"flip: \"):]\n",
    "    print(f'Flip: {result}')\n",
    "    print()\n",
    "    i += 1\n",
    "    if i == 5: break"
   ]
  },
  {
   "attachments": {},
   "cell_type": "markdown",
   "metadata": {},
   "source": [
    "## Plots"
   ]
  },
  {
   "attachments": {},
   "cell_type": "markdown",
   "metadata": {},
   "source": [
    "### Perplexity plot"
   ]
  },
  {
   "cell_type": "code",
   "execution_count": 201,
   "metadata": {},
   "outputs": [
    {
     "name": "stdout",
     "output_type": "stream",
     "text": [
      "There are 4751 steps in the training history.\n"
     ]
    }
   ],
   "source": [
    "import pandas as pd\n",
    "import matplotlib.pyplot as plt\n",
    "import wandb\n",
    "\n",
    "# Initialise the API\n",
    "api = wandb.Api()\n",
    "\n",
    "run_path = \"charlieoneill/huggingface/n6d3utay\"\n",
    "\n",
    "# Get the run object\n",
    "run = api.run(run_path)\n",
    "\n",
    "# Retrieve the training loss from the run's history\n",
    "history = run.history(samples=2500)\n",
    "history.rename(columns={'train/loss': 'cross_entropy_loss'}, inplace=True)\n",
    "history['perplexity'] = history['cross_entropy_loss'].apply(lambda x: 2**x)\n",
    "\n",
    "# Do the same for new run path\n",
    "run_path = \"charlieoneill/huggingface/g4yzci4n\"\n",
    "run = api.run(run_path)\n",
    "new_history = run.history(samples=2500)\n",
    "new_history.rename(columns={'train/loss': 'cross_entropy_loss'}, inplace=True)\n",
    "new_history['perplexity'] = new_history['cross_entropy_loss'].apply(lambda x: 2**x)\n",
    "\n",
    "# Concatenate the two histories\n",
    "history = pd.concat([history, new_history])\n",
    "history.reset_index(inplace=True, drop=True)\n",
    "\n",
    "# Fill nans in perplexity column\n",
    "history['perplexity'].fillna(method='ffill', inplace=True)\n",
    "\n",
    "# Print number of steps\n",
    "print(f\"There are {len(history)} steps in the training history.\")"
   ]
  },
  {
   "cell_type": "code",
   "execution_count": 202,
   "metadata": {},
   "outputs": [
    {
     "data": {
      "image/png": "[encoded data removed]",
      "text/plain": [
       "<Figure size 1200x600 with 1 Axes>"
      ]
     },
     "metadata": {},
     "output_type": "display_data"
    }
   ],
   "source": [
    "import matplotlib.pyplot as plt\n",
    "from matplotlib.ticker import MaxNLocator\n",
    "import math\n",
    "\n",
    "# Set up the figure with specified dpi\n",
    "plt.figure(figsize=(8, 4), dpi=150)\n",
    "\n",
    "data = history.copy()\n",
    "\n",
    "# Define the moving_average function\n",
    "def moving_average(data, window_size):\n",
    "    return [sum(data[i:i + window_size]) / window_size for i in range(len(data) - window_size + 1)]\n",
    "\n",
    "# Define step\n",
    "step = [i for i in range(len(data))]\n",
    "\n",
    "# Define variables\n",
    "number_of_gpus = 4\n",
    "number_of_samples = 100000\n",
    "per_device_train_batch_size = 4\n",
    "gradient_accumulation_steps = 4\n",
    "mean_tokens_per_sample = 187\n",
    "\n",
    "# Calculate Effective Batch Size and Tokens per Step\n",
    "effective_batch_size = per_device_train_batch_size * gradient_accumulation_steps * number_of_gpus\n",
    "tokens_per_step = effective_batch_size * mean_tokens_per_sample\n",
    "\n",
    "# Convert step to Processed Tokens (millions)\n",
    "processed_tokens_millions = [s * tokens_per_step / 1e6 for s in step]\n",
    "\n",
    "# Plot Actual Perplexity with new x-axis\n",
    "plt.plot(processed_tokens_millions, data.perplexity, color='lightblue', label='Actual Perplexity', lw=1.0)\n",
    "\n",
    "# Calculate and plot Smoothed Perplexity with new x-axis\n",
    "window_size = 10\n",
    "smoothed_perplexity = moving_average(data.perplexity, window_size)\n",
    "smoothed_steps = step[window_size - 1:]\n",
    "smoothed_processed_tokens_millions = [s * tokens_per_step / 1e6 for s in smoothed_steps]\n",
    "plt.plot(smoothed_processed_tokens_millions, smoothed_perplexity, color='black', label='Smoothed Perplexity', lw=1.0)\n",
    "\n",
    "# Calculate the step at which each epoch ends and draw vertical dashed lines with new x-axis\n",
    "epoch_end_step = number_of_samples // effective_batch_size\n",
    "number_of_steps = len(step)\n",
    "number_of_epochs_with_gpus = math.ceil(number_of_steps * effective_batch_size / number_of_samples)\n",
    "\n",
    "for epoch in range(1, number_of_epochs_with_gpus):\n",
    "    x_coordinate_tokens = epoch * epoch_end_step * tokens_per_step / 1e6\n",
    "    plt.axvline(x=x_coordinate_tokens, color='red', linestyle='dashed', lw=1.5)\n",
    "    \n",
    "    middle_x_coordinate_tokens = x_coordinate_tokens - (epoch_end_step * tokens_per_step / 1e6) / 2\n",
    "    plt.text(middle_x_coordinate_tokens, plt.ylim()[1] * 0.95, f'Epoch {epoch}', ha='center', va='center', color='black', fontsize=16)\n",
    "\n",
    "# Set title, labels, legend and save the figure\n",
    "plt.xlabel('Processed tokens (millions)', fontsize=18)\n",
    "plt.ylabel('Training perplexity', fontsize=18)\n",
    "# Set y-axis ticks to be integers\n",
    "#plt.gca().yaxis.set_major_locator(MaxNLocator(integer=True))\n",
    "plt.xticks(fontsize=14)\n",
    "plt.yticks(fontsize=14)\n",
    "plt.savefig(\"../paper/figures/perplexity.pdf\", dpi=300, bbox_inches=\"tight\")\n",
    "plt.show()"
   ]
  },
  {
   "attachments": {},
   "cell_type": "markdown",
   "metadata": {},
   "source": [
    "### Median example length in tokens"
   ]
  },
  {
   "cell_type": "code",
   "execution_count": 167,
   "metadata": {},
   "outputs": [
    {
     "name": "stdout",
     "output_type": "stream",
     "text": [
      "There are 99874 hypotheses in the dataset.\n"
     ]
    }
   ],
   "source": [
    "import pandas as pd\n",
    "from transformers import LlamaForCausalLM, LlamaTokenizer\n",
    "import torch\n",
    "\n",
    "df = pd.read_csv(\"../data/tuning/cs.LG.csv\", low_memory=False)\n",
    "print(f\"There are {len(df)} hypotheses in the dataset.\")\n",
    "\n",
    "tokenizer = LlamaTokenizer.from_pretrained(\"meta-llama/Llama-2-70b-hf\")"
   ]
  },
  {
   "cell_type": "code",
   "execution_count": 169,
   "metadata": {},
   "outputs": [
    {
     "name": "stderr",
     "output_type": "stream",
     "text": [
      "100%|██████████| 99874/99874 [00:13<00:00, 7409.78it/s] \n"
     ]
    },
    {
     "data": {
      "text/html": [
       "<div>\n",
       "<style scoped>\n",
       "    .dataframe tbody tr th:only-of-type {\n",
       "        vertical-align: middle;\n",
       "    }\n",
       "\n",
       "    .dataframe tbody tr th {\n",
       "        vertical-align: top;\n",
       "    }\n",
       "\n",
       "    .dataframe thead th {\n",
       "        text-align: right;\n",
       "    }\n",
       "</style>\n",
       "<table border=\"1\" class=\"dataframe\">\n",
       "  <thead>\n",
       "    <tr style=\"text-align: right;\">\n",
       "      <th></th>\n",
       "      <th>index</th>\n",
       "      <th>bit</th>\n",
       "      <th>flip</th>\n",
       "      <th>title</th>\n",
       "      <th>text</th>\n",
       "    </tr>\n",
       "  </thead>\n",
       "  <tbody>\n",
       "    <tr>\n",
       "      <th>0</th>\n",
       "      <td>0</td>\n",
       "      <td>Traditional statistical learning constructs a ...</td>\n",
       "      <td>The research proposes a setting where the enco...</td>\n",
       "      <td>Learning from compressed observations</td>\n",
       "      <td>Bit: Traditional statistical learning construc...</td>\n",
       "    </tr>\n",
       "    <tr>\n",
       "      <th>1</th>\n",
       "      <td>1</td>\n",
       "      <td>In sensor networks, the communication among se...</td>\n",
       "      <td>This research proposes a new approach to desig...</td>\n",
       "      <td>Sensor Networks with Random Links: Topology De...</td>\n",
       "      <td>Bit: In sensor networks, the communication amo...</td>\n",
       "    </tr>\n",
       "    <tr>\n",
       "      <th>2</th>\n",
       "      <td>2</td>\n",
       "      <td>Traditional algorithms for the online shortest...</td>\n",
       "      <td>An innovative approach is to develop an algori...</td>\n",
       "      <td>The on-line shortest path problem under partia...</td>\n",
       "      <td>Bit: Traditional algorithms for the online sho...</td>\n",
       "    </tr>\n",
       "    <tr>\n",
       "      <th>3</th>\n",
       "      <td>3</td>\n",
       "      <td>Ordinal regression, a type of learning that co...</td>\n",
       "      <td>A traditional neural network can be adapted to...</td>\n",
       "      <td>A neural network approach to ordinal regression</td>\n",
       "      <td>Bit: Ordinal regression, a type of learning th...</td>\n",
       "    </tr>\n",
       "    <tr>\n",
       "      <th>4</th>\n",
       "      <td>4</td>\n",
       "      <td>Traditional Monte Carlo Optimization (MCO) and...</td>\n",
       "      <td>This research establishes a mathematical ident...</td>\n",
       "      <td>Parametric Learning and Monte Carlo Optimization</td>\n",
       "      <td>Bit: Traditional Monte Carlo Optimization (MCO...</td>\n",
       "    </tr>\n",
       "    <tr>\n",
       "      <th>...</th>\n",
       "      <td>...</td>\n",
       "      <td>...</td>\n",
       "      <td>...</td>\n",
       "      <td>...</td>\n",
       "      <td>...</td>\n",
       "    </tr>\n",
       "    <tr>\n",
       "      <th>99869</th>\n",
       "      <td>100035</td>\n",
       "      <td>Graph neural networks (GNNs) are widely used i...</td>\n",
       "      <td>However, this research presents a counterexamp...</td>\n",
       "      <td>Incompleteness of graph neural networks for po...</td>\n",
       "      <td>Bit: Graph neural networks (GNNs) are widely u...</td>\n",
       "    </tr>\n",
       "    <tr>\n",
       "      <th>99870</th>\n",
       "      <td>100036</td>\n",
       "      <td>In online advertising, the conventional approa...</td>\n",
       "      <td>This research proposes the use of combinatoria...</td>\n",
       "      <td>Safe Online Bid Optimization with Return-On-In...</td>\n",
       "      <td>Bit: In online advertising, the conventional a...</td>\n",
       "    </tr>\n",
       "    <tr>\n",
       "      <th>99871</th>\n",
       "      <td>100037</td>\n",
       "      <td>Traditional global optimization algorithms, su...</td>\n",
       "      <td>The proposed algorithm flips the focus from si...</td>\n",
       "      <td>Low Regret Binary Sampling Method for Efficien...</td>\n",
       "      <td>Bit: Traditional global optimization algorithm...</td>\n",
       "    </tr>\n",
       "    <tr>\n",
       "      <th>99872</th>\n",
       "      <td>100038</td>\n",
       "      <td>Traditional methods in jet physics rely on spe...</td>\n",
       "      <td>A new approach leverages representation learni...</td>\n",
       "      <td>Invariant Representation Driven Neural Classif...</td>\n",
       "      <td>Bit: Traditional methods in jet physics rely o...</td>\n",
       "    </tr>\n",
       "    <tr>\n",
       "      <th>99873</th>\n",
       "      <td>100039</td>\n",
       "      <td>Open source machine learning libraries are ess...</td>\n",
       "      <td>The counterargument is that the availability a...</td>\n",
       "      <td>Studying Popular Open Source Machine Learning ...</td>\n",
       "      <td>Bit: Open source machine learning libraries ar...</td>\n",
       "    </tr>\n",
       "  </tbody>\n",
       "</table>\n",
       "<p>99874 rows × 5 columns</p>\n",
       "</div>"
      ],
      "text/plain": [
       "        index                                                bit  \\\n",
       "0           0  Traditional statistical learning constructs a ...   \n",
       "1           1  In sensor networks, the communication among se...   \n",
       "2           2  Traditional algorithms for the online shortest...   \n",
       "3           3  Ordinal regression, a type of learning that co...   \n",
       "4           4  Traditional Monte Carlo Optimization (MCO) and...   \n",
       "...       ...                                                ...   \n",
       "99869  100035  Graph neural networks (GNNs) are widely used i...   \n",
       "99870  100036  In online advertising, the conventional approa...   \n",
       "99871  100037  Traditional global optimization algorithms, su...   \n",
       "99872  100038  Traditional methods in jet physics rely on spe...   \n",
       "99873  100039  Open source machine learning libraries are ess...   \n",
       "\n",
       "                                                    flip  \\\n",
       "0      The research proposes a setting where the enco...   \n",
       "1      This research proposes a new approach to desig...   \n",
       "2      An innovative approach is to develop an algori...   \n",
       "3      A traditional neural network can be adapted to...   \n",
       "4      This research establishes a mathematical ident...   \n",
       "...                                                  ...   \n",
       "99869  However, this research presents a counterexamp...   \n",
       "99870  This research proposes the use of combinatoria...   \n",
       "99871  The proposed algorithm flips the focus from si...   \n",
       "99872  A new approach leverages representation learni...   \n",
       "99873  The counterargument is that the availability a...   \n",
       "\n",
       "                                                   title  \\\n",
       "0                  Learning from compressed observations   \n",
       "1      Sensor Networks with Random Links: Topology De...   \n",
       "2      The on-line shortest path problem under partia...   \n",
       "3        A neural network approach to ordinal regression   \n",
       "4       Parametric Learning and Monte Carlo Optimization   \n",
       "...                                                  ...   \n",
       "99869  Incompleteness of graph neural networks for po...   \n",
       "99870  Safe Online Bid Optimization with Return-On-In...   \n",
       "99871  Low Regret Binary Sampling Method for Efficien...   \n",
       "99872  Invariant Representation Driven Neural Classif...   \n",
       "99873  Studying Popular Open Source Machine Learning ...   \n",
       "\n",
       "                                                    text  \n",
       "0      Bit: Traditional statistical learning construc...  \n",
       "1      Bit: In sensor networks, the communication amo...  \n",
       "2      Bit: Traditional algorithms for the online sho...  \n",
       "3      Bit: Ordinal regression, a type of learning th...  \n",
       "4      Bit: Traditional Monte Carlo Optimization (MCO...  \n",
       "...                                                  ...  \n",
       "99869  Bit: Graph neural networks (GNNs) are widely u...  \n",
       "99870  Bit: In online advertising, the conventional a...  \n",
       "99871  Bit: Traditional global optimization algorithm...  \n",
       "99872  Bit: Traditional methods in jet physics rely o...  \n",
       "99873  Bit: Open source machine learning libraries ar...  \n",
       "\n",
       "[99874 rows x 5 columns]"
      ]
     },
     "execution_count": 169,
     "metadata": {},
     "output_type": "execute_result"
    }
   ],
   "source": [
    "from tqdm import tqdm\n",
    "\n",
    "tqdm.pandas()\n",
    "\n",
    "def preprocess_data(example):\n",
    "    example['text'] = 'Bit: ' + example['bit'] + ' Flip: ' + example['flip']\n",
    "    return example\n",
    "\n",
    "# Map the preprocessing function to the dataset\n",
    "hypotheses = df.progress_apply(preprocess_data, axis=1)\n",
    "hypotheses"
   ]
  },
  {
   "cell_type": "code",
   "execution_count": 170,
   "metadata": {},
   "outputs": [
    {
     "name": "stderr",
     "output_type": "stream",
     "text": [
      "100%|██████████| 99874/99874 [01:15<00:00, 1315.45it/s]\n"
     ]
    }
   ],
   "source": [
    "def count_tokens(example):\n",
    "    return len(tokenizer(example['text'])['input_ids'])\n",
    "\n",
    "# Map the count_tokens function to the dataset\n",
    "hypotheses['num_tokens'] = hypotheses.progress_apply(count_tokens, axis=1)"
   ]
  },
  {
   "cell_type": "code",
   "execution_count": 14,
   "metadata": {},
   "outputs": [
    {
     "name": "stdout",
     "output_type": "stream",
     "text": [
      "count    79829.000000\n",
      "mean       187.391737\n",
      "std         24.496813\n",
      "min         46.000000\n",
      "25%        171.000000\n",
      "50%        186.000000\n",
      "75%        203.000000\n",
      "max        335.000000\n",
      "Name: num_tokens, dtype: float64\n",
      "Median number of tokens: 186.0\n",
      "Total number of tokens: 14.959295M\n"
     ]
    }
   ],
   "source": [
    "# Print out the statistics of the number of tokens\n",
    "print(hypotheses['num_tokens'].describe())\n",
    "# Print median number of tokens\n",
    "print(f\"Median number of tokens: {hypotheses['num_tokens'].median()}\")\n",
    "# Print total number of tokens in millions\n",
    "print(f\"Total number of tokens: {hypotheses['num_tokens'].sum()/1000000}M\")"
   ]
  },
  {
   "attachments": {},
   "cell_type": "markdown",
   "metadata": {},
   "source": [
    "# Look at results"
   ]
  },
  {
   "cell_type": "code",
   "execution_count": 209,
   "metadata": {},
   "outputs": [
    {
     "name": "stdout",
     "output_type": "stream",
     "text": [
      "--------------------------------------------------\n",
      "Bit: The conventional belief in online decision strategies, such as \"Follow the Perturbed Leader\" (FPL), is that regret bounds are typically proven against an oblivious adversary. In cases of partial observation, it has been unclear how to obtain performance guarantees against an adaptive adversary without worsening the bounds. This limitation has been a significant challenge in the field, restricting the effectiveness of FPL strategies in adversarial multi-armed bandit problems.\n",
      "--------------------------------------------------\n",
      "GPT-4 (zero shot): Instead of focusing on regret bounds against an oblivious adversary, we can shift our focus to learning and adapting to the adversary's strategy in real-time. This approach would involve developing a model that can predict the adversary's actions based on past behavior and adjust its strategy accordingly. By doing so, we can potentially achieve better performance against an adaptive adversary, even in cases of partial observation, without necessarily worsening the regret bounds.\n",
      "--------------------------------------------------\n",
      "GPT-4 (three shot): This research proposes a new approach that extends the FPL strategy to adversarial multi-armed bandit problems with partial observation. The study introduces a novel algorithm, \"Follow the Perturbed Leader with Observation\" (FPLO), which provides performance guarantees against an adaptive adversary without worsening the bounds. By incorporating observation into the decision-making process, FPLO can effectively handle partial observation scenarios, thereby enhancing the effectiveness of FPL strategies in adversarial settings.### END\n",
      "--------------------------------------------------\n",
      "LLAMA (three shot): An innovative approach is to develop an algorithm that can handle partial monitoring, where the decision maker only learns the weights of the edges that belong to the chosen path. This algorithm's average cumulative loss over n rounds only exceeds that of the best path, matched offline to the entire sequence of edge weights, by a quantity proportional to 1/√n. This approach can be extended to other settings, such as label efficient setting and tracking the best expert, and can be implemented with linear complexity in the number of rounds and edges.\n",
      "--------------------------------------------------\n",
      "LLAMA (finetuned three shot): The research introduces a dynamic concentration inequality for general independent stationary processes that allows for the analysis of FPL-based online decision strategies against an adaptive adversary. This approach not only provides regret bounds against an adaptive adversary but also generalizes the existing regret bounds against an oblivious adversary. Moreover, the research shows that when no additional information is available and the best arm is fixed, FPL with initial exploration is the optimal algorithm against an adaptive adversary, demonstrating its versatility and effectiveness.\n",
      "--------------------------------------------------\n",
      "Real: The research proposes a simple argument to resolve the problem of obtaining performance guarantees against an adaptive adversary in partial observation cases. It demonstrates a regret bound of O(t^(2/3)) for FPL in the adversarial multi-armed bandit problem, even without explicit exploration. Moreover, using all observations allows for a stronger bound of O(t^(1/2)), matching the best known bound so far for adversarial bandits, suggesting that FPL strategies can be self-stabilizing and effective against adaptive adversaries.\n",
      "--------------------------------------------------\n",
      "\n"
     ]
    }
   ],
   "source": [
    "import random\n",
    "\n",
    "path = \"../data/generated\"\n",
    "method = \"gpt_4_zero_shot\"\n",
    "\n",
    "# Load the results\n",
    "gpt_4_zero_shot = pd.read_csv(f\"{path}/gpt_4_zero_shot.csv\")\n",
    "gpt_4_three_shot = pd.read_csv(f\"{path}/gpt_4_three_shot.csv\")\n",
    "llama_three_shot = pd.read_csv(f\"{path}/llama_three_shot.csv\")\n",
    "llama_finetuned_three_shot = pd.read_csv(f\"{path}/llama_finetuned_three_shot.csv\")\n",
    "\n",
    "# Shuffle the df\n",
    "df = df.sample(frac=1)\n",
    "real = pd.read_csv(f\"{path}/real.csv\")\n",
    "\n",
    "# Print some bit flip examples, along with the corresponding real hypothesis\n",
    "# Random idx\n",
    "i = random.randint(0, len(df)-1)\n",
    "print('-'*50)\n",
    "print(f'Bit: {real.iloc[i][\"bit\"]}')\n",
    "print('-'*50)\n",
    "print(f'GPT-4 (zero shot): {gpt_4_zero_shot.iloc[i][\"flip\"]}')\n",
    "print('-'*50)\n",
    "print(f'GPT-4 (three shot): {gpt_4_three_shot.iloc[i][\"flip\"]}')\n",
    "print('-'*50)\n",
    "print(f'LLAMA (three shot): {llama_three_shot.iloc[i][\"flip\"]}')\n",
    "print('-'*50)\n",
    "print(f'LLAMA (finetuned three shot): {llama_finetuned_three_shot.iloc[i][\"flip\"]}')\n",
    "print('-'*50)\n",
    "print(f'Real: {real.iloc[i][\"flip\"]}')\n",
    "print('-'*50)\n",
    "print()"
   ]
  },
  {
   "cell_type": "code",
   "execution_count": null,
   "metadata": {},
   "outputs": [],
   "source": []
  }
 ],
 "metadata": {
  "kernelspec": {
   "display_name": "diverse-llm",
   "language": "python",
   "name": "python3"
  },
  "language_info": {
   "codemirror_mode": {
    "name": "ipython",
    "version": 3
   },
   "file_extension": ".py",
   "mimetype": "text/x-python",
   "name": "python",
   "nbconvert_exporter": "python",
   "pygments_lexer": "ipython3",
   "version": "3.11.4"
  },
  "orig_nbformat": 4
 },
 "nbformat": 4,
 "nbformat_minor": 2
}
