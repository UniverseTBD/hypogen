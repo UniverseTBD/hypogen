{
 "cells": [
  {
   "cell_type": "code",
   "execution_count": 15,
   "metadata": {},
   "outputs": [],
   "source": [
    "from utils import *\n",
    "import os\n",
    "\n",
    "# If arxiv.csv doesn't exist, load the json which will save it\n",
    "# If arxiv.csv does exist, load it\n",
    "\n",
    "if not os.path.exists('arxiv.csv'): df = load_arxiv_json()\n",
    "else: df = pd.read_csv('arxiv.csv')\n"
   ]
  },
  {
   "cell_type": "code",
   "execution_count": 16,
   "metadata": {},
   "outputs": [
    {
     "data": {
      "text/plain": [
       "\"  Generative adversarial networks (GANs) are frequently utilized in astronomy\\nto construct an emulator of numerical simulations. Nevertheless, training GANs\\ncan prove to be a precarious task, as they are prone to instability and often\\nlead to mode collapse problems. Conversely, the diffusion model also has the\\nability to generate high-quality data without adversarial training. It has\\nshown superiority over GANs with regard to several natural image datasets. In\\nthis study, we undertake a quantitative comparison between the denoising\\ndiffusion probabilistic model (DDPM) and StyleGAN2 (one of the most robust\\ntypes of GANs) via a set of robust summary statistics from scattering\\ntransform. In particular, we utilize both models to generate the images of 21\\ncm brightness temperature mapping, as a case study, conditionally based on\\nastrophysical parameters that govern the process of cosmic reionization. Using\\nour new Fr\\\\'echet Scattering Distance (FSD) as the evaluation metric to\\nquantitatively compare the sample distribution between generative models and\\nsimulations, we demonstrate that DDPM outperforms StyleGAN2 on varied sizes of\\ntraining sets. Through Fisher forecasts, we demonstrate that on our datasets,\\nStyleGAN2 exhibits mode collapses in varied ways, while DDPM yields a more\\nrobust generation. We also explore the role of classifier-free guidance in DDPM\\nand show the preference for a non-zero guidance scale only when the training\\ndata is limited. Our findings indicate that the diffusion model presents a\\npromising alternative to GANs in the generation of accurate images. These\\nimages can subsequently provide reliable parameter constraints, particularly in\\nthe realm of astrophysics.\\n\""
      ]
     },
     "execution_count": 16,
     "metadata": {},
     "output_type": "execute_result"
    }
   ],
   "source": [
    "# Get the abstracts\n",
    "abstracts = df['abstract'].values\n",
    "abstracts[-1]"
   ]
  },
  {
   "cell_type": "code",
   "execution_count": 64,
   "metadata": {},
   "outputs": [
    {
     "name": "stdout",
     "output_type": "stream",
     "text": [
      "Please consider the following abstract:\n",
      "\n",
      "Your provided abstract here.\n",
      "\n",
      "I'd like to extract a structured representation from it. To achieve this, do the following steps by thinking out loud, and thinking step by step:\n",
      "\n",
      "Begin by performing syntactic simplification of complex sentences in the abstract. \n",
      "Break them down into simpler, more digestible statements, but keep the key details intact, particularly the context, field of study, and application of the problem.\n",
      "Next, organize the main concepts into a JSON-style object with the following structure:\n",
      "\n",
      "- 'Problem': 'Issues or challenges addressed.',\n",
      "- 'Solution': 'Proposed solutions or methods.'\n",
      "- 'Methodology': 'Implementation details of the solutions or methods.'\n",
      "- 'Evaluation': 'How results or solutions are assessed.'\n",
      "- 'Results': 'Conclusions drawn from the study.'\n",
      "\n",
      "Your goal is to capture the essence of the abstract in a clear and structured manner, highlighting the most critical elements using the provided categories.\n",
      "\n"
     ]
    }
   ],
   "source": [
    "from langchain.prompts import StringPromptTemplate\n",
    "from pydantic import BaseModel, validator\n",
    "\n",
    "PROMPT = \"\"\"\\\n",
    "Please consider the following abstract:\n",
    "\n",
    "{abstract}\n",
    "\n",
    "I'd like to extract a structured representation from it. To achieve this, do the following steps by thinking out loud, and thinking step by step:\n",
    "\n",
    "Begin by performing syntactic simplification of complex sentences in the abstract. \n",
    "Break them down into simpler, more digestible statements, but keep the key details intact, particularly the context, field of study, and application of the problem.\n",
    "Next, organize the main concepts into a JSON-style object with the following structure:\n",
    "\n",
    "- 'Problem': 'Issues or challenges addressed.',\n",
    "- 'Solution': 'Proposed solutions or methods.'\n",
    "- 'Methodology': 'Implementation details of the solutions or methods.'\n",
    "- 'Evaluation': 'How results or solutions are assessed.'\n",
    "- 'Results': 'Conclusions drawn from the study.'\n",
    "\n",
    "Your goal is to capture the essence of the abstract in a clear and structured manner, highlighting the most critical elements using the provided categories.\n",
    "\"\"\"\n",
    "\n",
    "class HypothesisExtractionPromptTemplate(StringPromptTemplate, BaseModel):\n",
    "    \"\"\"A custom prompt template for extracting a structured representation from an abstract.\"\"\"\n",
    "\n",
    "    @validator(\"input_variables\")\n",
    "    def validate_input_variables(cls, v):\n",
    "        \"\"\"Validate that the input variables are correct.\"\"\"\n",
    "        if len(v) != 1 or \"abstract\" not in v:\n",
    "            raise ValueError(\"abstract must be the only input_variable.\")\n",
    "        return v\n",
    "\n",
    "    def format(self, **kwargs) -> str:\n",
    "        # Generate the prompt using the provided abstract\n",
    "        prompt = PROMPT.format(abstract=kwargs[\"abstract\"])\n",
    "        return prompt\n",
    "\n",
    "    def _prompt_type(self):\n",
    "        return \"hypothesis-extraction\"\n",
    "\n",
    "# Usage:\n",
    "hypothesis_extractor = HypothesisExtractionPromptTemplate(input_variables=[\"abstract\"])\n",
    "prompt = hypothesis_extractor.format(abstract=\"Your provided abstract here.\")\n",
    "print(prompt)"
   ]
  },
  {
   "cell_type": "code",
   "execution_count": 66,
   "metadata": {},
   "outputs": [
    {
     "data": {
      "text/plain": [
       "Hypothesis(Problem='GANs are used in astronomy for numerical simulations but have training challenges due to instability and mode collapse problems.', Solution='The diffusion model offers an alternative to GANs, capable of generating high-quality data without adversarial training. Additionally, DDPM and StyleGAN2 are compared for image generation.', Methodology='This study uses summary statistics from scattering transform for the comparison. Both models generate images of 21 cm brightness temperature mapping based on astrophysical parameters.', Evaluation='Fréchet Scattering Distance (FSD) is used to compare sample distributions. Fisher forecasts evaluate mode collapses in models.', Results='DDPM outperforms StyleGAN2 on varied training set sizes and offers more robust image generation. The diffusion model is highlighted as a promising alternative to GANs for accurate image generation, providing reliable parameter constraints in astrophysics.')"
      ]
     },
     "execution_count": 66,
     "metadata": {},
     "output_type": "execute_result"
    }
   ],
   "source": [
    "from pydantic import BaseModel, Field\n",
    "\n",
    "# Redefining the Pydantic model for Hypothesis\n",
    "class Hypothesis(BaseModel):\n",
    "    Problem: str = Field(description=\"Issues or challenges addressed.\")\n",
    "    Solution: str = Field(description=\"Proposed solutions or methods.\")\n",
    "    Methodology: str = Field(description=\"Implementation details of the solutions or methods.\")\n",
    "    Evaluation: str = Field(description=\"How results or solutions are assessed.\")\n",
    "    Results: str = Field(description=\"Conclusions drawn from the study.\")\n",
    "\n",
    "# Sample output from the LLM (based on the previously discussed extraction)\n",
    "llm_output_str = \"\"\"\n",
    "{\n",
    "    \"Problem\": \"GANs are used in astronomy for numerical simulations but have training challenges due to instability and mode collapse problems.\",\n",
    "    \"Solution\": \"The diffusion model offers an alternative to GANs, capable of generating high-quality data without adversarial training. Additionally, DDPM and StyleGAN2 are compared for image generation.\",\n",
    "    \"Methodology\": \"This study uses summary statistics from scattering transform for the comparison. Both models generate images of 21 cm brightness temperature mapping based on astrophysical parameters.\",\n",
    "    \"Evaluation\": \"Fréchet Scattering Distance (FSD) is used to compare sample distributions. Fisher forecasts evaluate mode collapses in models.\",\n",
    "    \"Results\": \"DDPM outperforms StyleGAN2 on varied training set sizes and offers more robust image generation. The diffusion model is highlighted as a promising alternative to GANs for accurate image generation, providing reliable parameter constraints in astrophysics.\"\n",
    "}\n",
    "\"\"\"\n",
    "\n",
    "# Parse the JSON string into the Pydantic object\n",
    "hypothesis_data = Hypothesis.parse_raw(llm_output_str)\n",
    "hypothesis_data"
   ]
  },
  {
   "cell_type": "code",
   "execution_count": 72,
   "metadata": {},
   "outputs": [
    {
     "name": "stdout",
     "output_type": "stream",
     "text": [
      "Problem='Training GANs can be unstable and often leads to mode collapse problems, especially in the field of astronomy for emulating numerical simulations.' Solution='The Diffusion Model, specifically the Denoising Diffusion Probabilistic Model (DDPM), can generate high-quality data without adversarial training, offering a promising alternative to GANs.' Methodology='Both DDPM and a type of GAN, StyleGAN2, are used to generate images of 21 cm brightness temperature mapping based on astrophysical parameters that control cosmic reionization. The role of classifier-free guidance in DDPM is explored, with a preference for non-zero guidance scale when training data is limited.' Evaluation='The new Fréchet Scattering Distance (FSD) is used as the evaluation metric to compare the sample distribution between the generative models and simulations.' Results='DDPM outperforms StyleGAN2 on various sizes of training sets. While StyleGAN2 exhibits mode collapses in different ways, DDPM provides a more robust generation. The diffusion model could be a promising alternative to GANs for generating accurate images in astrophysics.'\n"
     ]
    }
   ],
   "source": [
    "import openai\n",
    "import re\n",
    "from langchain.chat_models import AzureChatOpenAI\n",
    "from langchain.output_parsers import PydanticOutputParser\n",
    "from langchain.schema import HumanMessage\n",
    "from langchain.callbacks.streaming_stdout import StreamingStdOutCallbackHandler\n",
    "from typing import Dict\n",
    "\n",
    "API_KEY = \"ec4eddd112ca4626b79c4ed61310326b\"\n",
    "DEPLOYMENT_NAME = \"gpt4_small\"\n",
    "BASE_URL = \"https://utbd.openai.azure.com/\"\n",
    "API_VERSION = \"2023-03-15-preview\"\n",
    "\n",
    "# 1. Setup the chat model\n",
    "model = AzureChatOpenAI(\n",
    "    openai_api_base=BASE_URL,\n",
    "    openai_api_version=API_VERSION,\n",
    "    deployment_name=DEPLOYMENT_NAME,\n",
    "    openai_api_key=API_KEY,\n",
    "    openai_api_type=\"azure\",\n",
    ")\n",
    "\n",
    "# 2. Define the custom prompt\n",
    "def generate_custom_prompt(abstract):\n",
    "    return PROMPT.format(abstract=abstract)\n",
    "\n",
    "# 3. Get model's response\n",
    "def get_model_response(abstract):\n",
    "    prompt = generate_custom_prompt(abstract)\n",
    "    messages = [HumanMessage(content=prompt)]\n",
    "    response = model(messages)\n",
    "    return response.content\n",
    "\n",
    "# 4. Parse the response to get the structured representation\n",
    "def extract_to_hypothesis(response: str) -> Hypothesis:\n",
    "    # Extract content between curly braces\n",
    "    match = re.search(r'\\{(.+?)\\}', response, flags=re.DOTALL)\n",
    "    if not match:\n",
    "        raise ValueError(\"Could not find a JSON-like structure in the response.\")\n",
    "    content = match.group(1)\n",
    "    # Split by lines and extract key-value pairs\n",
    "    lines = content.strip().split('\\n')\n",
    "    data: Dict[str, str] = {}\n",
    "    for line in lines:\n",
    "        key, value = line.split(':', 1) # Split by the first colon\n",
    "        key = key.strip().strip(\"'\")\n",
    "        value = value.strip().strip(\"',\")\n",
    "        data[key] = value\n",
    "    # Populate the Hypothesis class\n",
    "    return Hypothesis(**data)\n",
    "\n",
    "# 4. Parse the response to get the structured representation\n",
    "def extract_hypothesis(abstract):\n",
    "    response = get_model_response(abstract)\n",
    "    parser = PydanticOutputParser(pydantic_object=Hypothesis)\n",
    "    hypothesis = extract_to_hypothesis(response)\n",
    "    return hypothesis\n",
    "\n",
    "# Use the pipeline\n",
    "abstract = abstracts[-1]\n",
    "result = extract_hypothesis(abstract)\n",
    "print(result)"
   ]
  },
  {
   "cell_type": "code",
   "execution_count": null,
   "metadata": {},
   "outputs": [],
   "source": []
  }
 ],
 "metadata": {
  "kernelspec": {
   "display_name": "diverse-llm",
   "language": "python",
   "name": "python3"
  },
  "language_info": {
   "codemirror_mode": {
    "name": "ipython",
    "version": 3
   },
   "file_extension": ".py",
   "mimetype": "text/x-python",
   "name": "python",
   "nbconvert_exporter": "python",
   "pygments_lexer": "ipython3",
   "version": "3.11.4"
  },
  "orig_nbformat": 4
 },
 "nbformat": 4,
 "nbformat_minor": 2
}
